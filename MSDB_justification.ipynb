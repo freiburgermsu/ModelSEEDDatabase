{
 "cells": [
  {
   "cell_type": "code",
   "execution_count": 9,
   "id": "fbf9c3b3-3200-4137-8596-983926819aca",
   "metadata": {},
   "outputs": [
    {
     "name": "stderr",
     "output_type": "stream",
     "text": [
      "usage: modelseed_justification.py [-h] --msdb_path MSDB_PATH [--primals_path PRIMALS_PATH]\n",
      "modelseed_justification.py: error: the following arguments are required: --msdb_path\n"
     ]
    },
    {
     "ename": "SystemExit",
     "evalue": "2",
     "output_type": "error",
     "traceback": [
      "An exception has occurred, use %tb to see the full traceback.\n",
      "\u001b[1;31mSystemExit\u001b[0m\u001b[1;31m:\u001b[0m 2\n"
     ]
    },
    {
     "name": "stdout",
     "output_type": "stream",
     "text": [
      "cpd00001_0 + cpd00002_0 + cpd00009_1 --> cpd00008_0 + 2 cpd00009_0 + cpd00067_0 + cpd00023_0 + cpd00067_0 + cpd03956_0 + cpd00022_0 + 3 cpd00067_0 + cpd00599_0 + cpd00982_0\r"
     ]
    },
    {
     "ename": "KeyError",
     "evalue": "'H'",
     "output_type": "error",
     "traceback": [
      "\u001b[1;31m---------------------------------------------------------------------------\u001b[0m",
      "\u001b[1;31mKeyError\u001b[0m                                  Traceback (most recent call last)",
      "Cell \u001b[1;32mIn[9], line 3\u001b[0m\n\u001b[0;32m      1\u001b[0m get_ipython()\u001b[38;5;241m.\u001b[39mrun_line_magic(\u001b[38;5;124m'\u001b[39m\u001b[38;5;124mrun\u001b[39m\u001b[38;5;124m'\u001b[39m, \u001b[38;5;124m'\u001b[39m\u001b[38;5;124m../ModelSEEDpy/modelseedpy/biochem/modelseed_justification.py\u001b[39m\u001b[38;5;124m'\u001b[39m)\n\u001b[1;32m----> 3\u001b[0m model \u001b[38;5;241m=\u001b[39m \u001b[43mjustifyDB\u001b[49m\u001b[43m(\u001b[49m\u001b[43mmsdb_path\u001b[49m\u001b[38;5;241;43m=\u001b[39;49m\u001b[38;5;124;43m\"\u001b[39;49m\u001b[38;5;124;43m.\u001b[39;49m\u001b[38;5;124;43m\"\u001b[39;49m\u001b[43m,\u001b[49m\u001b[43m \u001b[49m\u001b[43mprimals_path\u001b[49m\u001b[38;5;241;43m=\u001b[39;49m\u001b[38;5;124;43m\"\u001b[39;49m\u001b[38;5;124;43mMSDB_justification_primals.json\u001b[39;49m\u001b[38;5;124;43m\"\u001b[39;49m\u001b[43m)\u001b[49m\n",
      "File \u001b[1;32m~\\Documents\\Argonne\\ModelSEED\\ModelSEEDpy\\modelseedpy\\biochem\\modelseed_justification.py:42\u001b[0m, in \u001b[0;36mjustifyDB\u001b[1;34m(msdb_path, primals_path)\u001b[0m\n\u001b[0;32m     39\u001b[0m \u001b[38;5;66;03m# mass balance\u001b[39;00m\n\u001b[0;32m     40\u001b[0m mass_variables[rxn\u001b[38;5;241m.\u001b[39mid][met\u001b[38;5;241m.\u001b[39mid] \u001b[38;5;241m=\u001b[39m {ele: tupVariable(_check_names(\u001b[38;5;124mf\u001b[39m\u001b[38;5;124m\"\u001b[39m\u001b[38;5;132;01m{\u001b[39;00mrxn\u001b[38;5;241m.\u001b[39mid\u001b[38;5;132;01m}\u001b[39;00m\u001b[38;5;124m_\u001b[39m\u001b[38;5;132;01m{\u001b[39;00mmetID\u001b[38;5;132;01m}\u001b[39;00m\u001b[38;5;124m_\u001b[39m\u001b[38;5;132;01m{\u001b[39;00mele\u001b[38;5;132;01m}\u001b[39;00m\u001b[38;5;124m\"\u001b[39m, names))\n\u001b[0;32m     41\u001b[0m                                   \u001b[38;5;28;01mfor\u001b[39;00m ele \u001b[38;5;129;01min\u001b[39;00m met\u001b[38;5;241m.\u001b[39melements \u001b[38;5;28;01mif\u001b[39;00m \u001b[38;5;124mf\u001b[39m\u001b[38;5;124m\"\u001b[39m\u001b[38;5;132;01m{\u001b[39;00mrxn\u001b[38;5;241m.\u001b[39mid\u001b[38;5;132;01m}\u001b[39;00m\u001b[38;5;124m_\u001b[39m\u001b[38;5;132;01m{\u001b[39;00mmetID\u001b[38;5;132;01m}\u001b[39;00m\u001b[38;5;124m_\u001b[39m\u001b[38;5;132;01m{\u001b[39;00mele\u001b[38;5;132;01m}\u001b[39;00m\u001b[38;5;124m\"\u001b[39m \u001b[38;5;129;01mnot\u001b[39;00m \u001b[38;5;129;01min\u001b[39;00m names}\n\u001b[1;32m---> 42\u001b[0m objective\u001b[38;5;241m.\u001b[39mexpr\u001b[38;5;241m.\u001b[39mextend([{\u001b[38;5;124m\"\u001b[39m\u001b[38;5;124melements\u001b[39m\u001b[38;5;124m\"\u001b[39m: [mass_variables[rxn\u001b[38;5;241m.\u001b[39mid][met\u001b[38;5;241m.\u001b[39mid][ele]\u001b[38;5;241m.\u001b[39mname, \u001b[38;5;241m-\u001b[39mmet\u001b[38;5;241m.\u001b[39melements[ele]],\n\u001b[0;32m     43\u001b[0m                         \u001b[38;5;124m\"\u001b[39m\u001b[38;5;124moperation\u001b[39m\u001b[38;5;124m\"\u001b[39m: \u001b[38;5;124m\"\u001b[39m\u001b[38;5;124mAdd\u001b[39m\u001b[38;5;124m\"\u001b[39m} \u001b[38;5;28;01mfor\u001b[39;00m ele \u001b[38;5;129;01min\u001b[39;00m met\u001b[38;5;241m.\u001b[39melements])\n\u001b[0;32m     44\u001b[0m \u001b[38;5;66;03m# else:  print(rxn.reaction, end=\"\\r\")\u001b[39;00m\n\u001b[0;32m     45\u001b[0m \u001b[38;5;66;03m# charge balance\u001b[39;00m\n\u001b[0;32m     46\u001b[0m charge_variables[rxn\u001b[38;5;241m.\u001b[39mid][met\u001b[38;5;241m.\u001b[39mid] \u001b[38;5;241m=\u001b[39m tupVariable(\u001b[38;5;124mf\u001b[39m\u001b[38;5;124m\"\u001b[39m\u001b[38;5;132;01m{\u001b[39;00mrxn\u001b[38;5;241m.\u001b[39mid\u001b[38;5;132;01m}\u001b[39;00m\u001b[38;5;124m_\u001b[39m\u001b[38;5;132;01m{\u001b[39;00mmetID\u001b[38;5;132;01m}\u001b[39;00m\u001b[38;5;124m_charge\u001b[39m\u001b[38;5;124m\"\u001b[39m)\n",
      "File \u001b[1;32m~\\Documents\\Argonne\\ModelSEED\\ModelSEEDpy\\modelseedpy\\biochem\\modelseed_justification.py:42\u001b[0m, in \u001b[0;36m<listcomp>\u001b[1;34m(.0)\u001b[0m\n\u001b[0;32m     39\u001b[0m \u001b[38;5;66;03m# mass balance\u001b[39;00m\n\u001b[0;32m     40\u001b[0m mass_variables[rxn\u001b[38;5;241m.\u001b[39mid][met\u001b[38;5;241m.\u001b[39mid] \u001b[38;5;241m=\u001b[39m {ele: tupVariable(_check_names(\u001b[38;5;124mf\u001b[39m\u001b[38;5;124m\"\u001b[39m\u001b[38;5;132;01m{\u001b[39;00mrxn\u001b[38;5;241m.\u001b[39mid\u001b[38;5;132;01m}\u001b[39;00m\u001b[38;5;124m_\u001b[39m\u001b[38;5;132;01m{\u001b[39;00mmetID\u001b[38;5;132;01m}\u001b[39;00m\u001b[38;5;124m_\u001b[39m\u001b[38;5;132;01m{\u001b[39;00mele\u001b[38;5;132;01m}\u001b[39;00m\u001b[38;5;124m\"\u001b[39m, names))\n\u001b[0;32m     41\u001b[0m                                   \u001b[38;5;28;01mfor\u001b[39;00m ele \u001b[38;5;129;01min\u001b[39;00m met\u001b[38;5;241m.\u001b[39melements \u001b[38;5;28;01mif\u001b[39;00m \u001b[38;5;124mf\u001b[39m\u001b[38;5;124m\"\u001b[39m\u001b[38;5;132;01m{\u001b[39;00mrxn\u001b[38;5;241m.\u001b[39mid\u001b[38;5;132;01m}\u001b[39;00m\u001b[38;5;124m_\u001b[39m\u001b[38;5;132;01m{\u001b[39;00mmetID\u001b[38;5;132;01m}\u001b[39;00m\u001b[38;5;124m_\u001b[39m\u001b[38;5;132;01m{\u001b[39;00mele\u001b[38;5;132;01m}\u001b[39;00m\u001b[38;5;124m\"\u001b[39m \u001b[38;5;129;01mnot\u001b[39;00m \u001b[38;5;129;01min\u001b[39;00m names}\n\u001b[1;32m---> 42\u001b[0m objective\u001b[38;5;241m.\u001b[39mexpr\u001b[38;5;241m.\u001b[39mextend([{\u001b[38;5;124m\"\u001b[39m\u001b[38;5;124melements\u001b[39m\u001b[38;5;124m\"\u001b[39m: [\u001b[43mmass_variables\u001b[49m\u001b[43m[\u001b[49m\u001b[43mrxn\u001b[49m\u001b[38;5;241;43m.\u001b[39;49m\u001b[43mid\u001b[49m\u001b[43m]\u001b[49m\u001b[43m[\u001b[49m\u001b[43mmet\u001b[49m\u001b[38;5;241;43m.\u001b[39;49m\u001b[43mid\u001b[49m\u001b[43m]\u001b[49m\u001b[43m[\u001b[49m\u001b[43mele\u001b[49m\u001b[43m]\u001b[49m\u001b[38;5;241m.\u001b[39mname, \u001b[38;5;241m-\u001b[39mmet\u001b[38;5;241m.\u001b[39melements[ele]],\n\u001b[0;32m     43\u001b[0m                         \u001b[38;5;124m\"\u001b[39m\u001b[38;5;124moperation\u001b[39m\u001b[38;5;124m\"\u001b[39m: \u001b[38;5;124m\"\u001b[39m\u001b[38;5;124mAdd\u001b[39m\u001b[38;5;124m\"\u001b[39m} \u001b[38;5;28;01mfor\u001b[39;00m ele \u001b[38;5;129;01min\u001b[39;00m met\u001b[38;5;241m.\u001b[39melements])\n\u001b[0;32m     44\u001b[0m \u001b[38;5;66;03m# else:  print(rxn.reaction, end=\"\\r\")\u001b[39;00m\n\u001b[0;32m     45\u001b[0m \u001b[38;5;66;03m# charge balance\u001b[39;00m\n\u001b[0;32m     46\u001b[0m charge_variables[rxn\u001b[38;5;241m.\u001b[39mid][met\u001b[38;5;241m.\u001b[39mid] \u001b[38;5;241m=\u001b[39m tupVariable(\u001b[38;5;124mf\u001b[39m\u001b[38;5;124m\"\u001b[39m\u001b[38;5;132;01m{\u001b[39;00mrxn\u001b[38;5;241m.\u001b[39mid\u001b[38;5;132;01m}\u001b[39;00m\u001b[38;5;124m_\u001b[39m\u001b[38;5;132;01m{\u001b[39;00mmetID\u001b[38;5;132;01m}\u001b[39;00m\u001b[38;5;124m_charge\u001b[39m\u001b[38;5;124m\"\u001b[39m)\n",
      "\u001b[1;31mKeyError\u001b[0m: 'H'"
     ]
    }
   ],
   "source": [
    "%run ../ModelSEEDpy/modelseedpy/biochem/modelseed_justification.py\n",
    "\n",
    "model = justifyDB(msdb_path=\".\", primals_path=\"MSDB_justification_primals.json\")"
   ]
  },
  {
   "cell_type": "code",
   "execution_count": 4,
   "id": "09052ad3-1a1a-460a-ad75-f03bcc498cc2",
   "metadata": {},
   "outputs": [],
   "source": [
    "from modelseedpy.biochem import from_local\n",
    "msdb = from_local(\".\")"
   ]
  },
  {
   "cell_type": "code",
   "execution_count": 5,
   "id": "0fe618e0-132b-4684-8cf5-7e90e054d934",
   "metadata": {},
   "outputs": [
    {
     "data": {
      "text/plain": [
       "'cpd00001_0 + cpd00002_0 + cpd00009_1 --> cpd00008_0 + 2 cpd00009_0 + cpd00067_0'"
      ]
     },
     "execution_count": 5,
     "metadata": {},
     "output_type": "execute_result"
    }
   ],
   "source": [
    "troublesome_rxn = msdb.reactions.get_by_id(\"rxn05145\")\n",
    "troublesome_rxn.reaction"
   ]
  },
  {
   "cell_type": "code",
   "execution_count": 1,
   "id": "24718170-cad5-445a-a200-8d7cd2ea5f50",
   "metadata": {},
   "outputs": [
    {
     "ename": "NameError",
     "evalue": "name 'primals' is not defined",
     "output_type": "error",
     "traceback": [
      "\u001b[1;31m---------------------------------------------------------------------------\u001b[0m",
      "\u001b[1;31mNameError\u001b[0m                                 Traceback (most recent call last)",
      "Cell \u001b[1;32mIn[1], line 1\u001b[0m\n\u001b[1;32m----> 1\u001b[0m \u001b[43mprimals\u001b[49m\n",
      "\u001b[1;31mNameError\u001b[0m: name 'primals' is not defined"
     ]
    }
   ],
   "source": [
    "primals = model.primal_values"
   ]
  }
 ],
 "metadata": {
  "kernelspec": {
   "display_name": "Python 3 (ipykernel)",
   "language": "python",
   "name": "python3"
  },
  "language_info": {
   "codemirror_mode": {
    "name": "ipython",
    "version": 3
   },
   "file_extension": ".py",
   "mimetype": "text/x-python",
   "name": "python",
   "nbconvert_exporter": "python",
   "pygments_lexer": "ipython3",
   "version": "3.9.12"
  }
 },
 "nbformat": 4,
 "nbformat_minor": 5
}
