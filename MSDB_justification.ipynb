{
 "cells": [
  {
   "cell_type": "code",
   "execution_count": null,
   "id": "fbf9c3b3-3200-4137-8596-983926819aca",
   "metadata": {},
   "outputs": [],
   "source": [
    "%run ../ModelSEEDpy/modelseedpy/biochem/modelseed_justification.py\n",
    "\n",
    "primals = justifyDB(\".\")"
   ]
  },
  {
   "cell_type": "code",
   "execution_count": 1,
   "id": "24718170-cad5-445a-a200-8d7cd2ea5f50",
   "metadata": {},
   "outputs": [
    {
     "ename": "NameError",
     "evalue": "name 'primals' is not defined",
     "output_type": "error",
     "traceback": [
      "\u001b[1;31m---------------------------------------------------------------------------\u001b[0m",
      "\u001b[1;31mNameError\u001b[0m                                 Traceback (most recent call last)",
      "Cell \u001b[1;32mIn[1], line 1\u001b[0m\n\u001b[1;32m----> 1\u001b[0m \u001b[43mprimals\u001b[49m\n",
      "\u001b[1;31mNameError\u001b[0m: name 'primals' is not defined"
     ]
    }
   ],
   "source": [
    "primals"
   ]
  }
 ],
 "metadata": {
  "kernelspec": {
   "display_name": "Python 3 (ipykernel)",
   "language": "python",
   "name": "python3"
  },
  "language_info": {
   "codemirror_mode": {
    "name": "ipython",
    "version": 3
   },
   "file_extension": ".py",
   "mimetype": "text/x-python",
   "name": "python",
   "nbconvert_exporter": "python",
   "pygments_lexer": "ipython3",
   "version": "3.9.12"
  }
 },
 "nbformat": 4,
 "nbformat_minor": 5
}
