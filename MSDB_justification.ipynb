{
 "cells": [
  {
   "cell_type": "code",
   "execution_count": null,
   "id": "fbf9c3b3-3200-4137-8596-983926819aca",
   "metadata": {},
   "outputs": [
    {
     "name": "stdout",
     "output_type": "stream",
     "text": [
      "Defining variables and objective\tDone after 8.61953125 minutes\n",
      "Defining constraints\tDone after 0.47265625 minutes\n",
      "Constructing the model\t"
     ]
    },
    {
     "name": "stderr",
     "output_type": "stream",
     "text": [
      "sys.excepthook is missing\n",
      "Traceback (most recent call last):\n",
      "  File \"C:\\Users\\Andrew Freiburger\\AppData\\Local\\Programs\\Python\\Python39\\lib\\asyncio\\events.py\", line 80, in _run\n",
      "    self._context.run(self._callback, *self._args)\n",
      "MemoryError\n",
      "\n",
      "During handling of the above exception, another exception occurred:\n",
      "\n",
      "Traceback (most recent call last):\n",
      "  File \"C:\\Users\\Andrew Freiburger\\AppData\\Local\\Programs\\Python\\Python39\\lib\\runpy.py\", line 197, in _run_module_as_main\n",
      "  File \"C:\\Users\\Andrew Freiburger\\AppData\\Local\\Programs\\Python\\Python39\\lib\\runpy.py\", line 87, in _run_code\n",
      "  File \"C:\\Users\\Andrew Freiburger\\AppData\\Local\\Programs\\Python\\Python39\\lib\\site-packages\\ipykernel_launcher.py\", line 17, in <module>\n",
      "  File \"C:\\Users\\Andrew Freiburger\\AppData\\Local\\Programs\\Python\\Python39\\lib\\site-packages\\traitlets\\config\\application.py\", line 1041, in launch_instance\n",
      "  File \"C:\\Users\\Andrew Freiburger\\AppData\\Local\\Programs\\Python\\Python39\\lib\\site-packages\\ipykernel\\kernelapp.py\", line 711, in start\n",
      "  File \"C:\\Users\\Andrew Freiburger\\AppData\\Local\\Programs\\Python\\Python39\\lib\\site-packages\\tornado\\platform\\asyncio.py\", line 215, in start\n",
      "  File \"C:\\Users\\Andrew Freiburger\\AppData\\Local\\Programs\\Python\\Python39\\lib\\asyncio\\base_events.py\", line 601, in run_forever\n",
      "  File \"C:\\Users\\Andrew Freiburger\\AppData\\Local\\Programs\\Python\\Python39\\lib\\asyncio\\base_events.py\", line 1905, in _run_once\n",
      "  File \"C:\\Users\\Andrew Freiburger\\AppData\\Local\\Programs\\Python\\Python39\\lib\\asyncio\\events.py\", line 84, in _run\n",
      "    cb = format_helpers._format_callback_source(\n",
      "  File \"C:\\Users\\Andrew Freiburger\\AppData\\Local\\Programs\\Python\\Python39\\lib\\asyncio\\format_helpers.py\", line 23, in _format_callback_source\n",
      "  File \"C:\\Users\\Andrew Freiburger\\AppData\\Local\\Programs\\Python\\Python39\\lib\\asyncio\\format_helpers.py\", line 54, in _format_callback\n",
      "MemoryError\n"
     ]
    }
   ],
   "source": [
    "%%time \n",
    "\n",
    "%run ../ModelSEEDpy/modelseedpy/biochem/modelseed_justification.py --changes_path \"MSDB_corrections2.json\"\n",
    "\n",
    "from datetime import datetime\n",
    "print(datetime.now())\n",
    "\n",
    "# model = justifyDB(msdb_path=\".\", primals_path=\"MSDB_justification_primals.json\")"
   ]
  },
  {
   "cell_type": "code",
   "execution_count": 4,
   "id": "2b8456c3-0df9-43db-a67a-530886758688",
   "metadata": {},
   "outputs": [],
   "source": [
    "from json import load\n",
    "\n",
    "with open(\"MSDB_corrections.json\") as jsonIn:\n",
    "    primals = load(jsonIn)"
   ]
  },
  {
   "cell_type": "code",
   "execution_count": 5,
   "id": "d6c54b00-701e-4ab2-8eb0-984cb1cb8738",
   "metadata": {},
   "outputs": [
    {
     "name": "stdout",
     "output_type": "stream",
     "text": [
      "20357\n",
      "{'H': {'original': 2, 'proposed': 1.0}, 'O': {'original': 1, 'proposed': 0.5}}\n"
     ]
    }
   ],
   "source": [
    "print(len(primals))\n",
    "print(primals[\"cpd00001_0\"])"
   ]
  },
  {
   "cell_type": "code",
   "execution_count": 2,
   "id": "0b5ae8b7-a1e4-48c2-8c43-646abda6376b",
   "metadata": {
    "scrolled": true,
    "tags": []
   },
   "outputs": [
    {
     "ename": "KeyboardInterrupt",
     "evalue": "",
     "output_type": "error",
     "traceback": [
      "\u001b[1;31m---------------------------------------------------------------------------\u001b[0m",
      "\u001b[1;31mKeyboardInterrupt\u001b[0m                         Traceback (most recent call last)",
      "Cell \u001b[1;32mIn[2], line 4\u001b[0m\n\u001b[0;32m      2\u001b[0m \u001b[38;5;28;01mfrom\u001b[39;00m \u001b[38;5;21;01mjson\u001b[39;00m \u001b[38;5;28;01mimport\u001b[39;00m load, dump\n\u001b[0;32m      3\u001b[0m \u001b[38;5;28;01mwith\u001b[39;00m \u001b[38;5;28mopen\u001b[39m(\u001b[38;5;124m\"\u001b[39m\u001b[38;5;124mcorrect_MSDB.json\u001b[39m\u001b[38;5;124m\"\u001b[39m) \u001b[38;5;28;01mas\u001b[39;00m jsonIn:\n\u001b[1;32m----> 4\u001b[0m     model \u001b[38;5;241m=\u001b[39m \u001b[43mload\u001b[49m\u001b[43m(\u001b[49m\u001b[43mjsonIn\u001b[49m\u001b[43m)\u001b[49m\n\u001b[0;32m      6\u001b[0m optlang_model \u001b[38;5;241m=\u001b[39m Model\u001b[38;5;241m.\u001b[39mfrom_json(model)\n\u001b[0;32m      7\u001b[0m proposed_changes \u001b[38;5;241m=\u001b[39m {}\n",
      "File \u001b[1;32m~\\AppData\\Local\\Programs\\Python\\Python39\\lib\\json\\__init__.py:293\u001b[0m, in \u001b[0;36mload\u001b[1;34m(fp, cls, object_hook, parse_float, parse_int, parse_constant, object_pairs_hook, **kw)\u001b[0m\n\u001b[0;32m    274\u001b[0m \u001b[38;5;28;01mdef\u001b[39;00m \u001b[38;5;21mload\u001b[39m(fp, \u001b[38;5;241m*\u001b[39m, \u001b[38;5;28mcls\u001b[39m\u001b[38;5;241m=\u001b[39m\u001b[38;5;28;01mNone\u001b[39;00m, object_hook\u001b[38;5;241m=\u001b[39m\u001b[38;5;28;01mNone\u001b[39;00m, parse_float\u001b[38;5;241m=\u001b[39m\u001b[38;5;28;01mNone\u001b[39;00m,\n\u001b[0;32m    275\u001b[0m         parse_int\u001b[38;5;241m=\u001b[39m\u001b[38;5;28;01mNone\u001b[39;00m, parse_constant\u001b[38;5;241m=\u001b[39m\u001b[38;5;28;01mNone\u001b[39;00m, object_pairs_hook\u001b[38;5;241m=\u001b[39m\u001b[38;5;28;01mNone\u001b[39;00m, \u001b[38;5;241m*\u001b[39m\u001b[38;5;241m*\u001b[39mkw):\n\u001b[0;32m    276\u001b[0m     \u001b[38;5;124;03m\"\"\"Deserialize ``fp`` (a ``.read()``-supporting file-like object containing\u001b[39;00m\n\u001b[0;32m    277\u001b[0m \u001b[38;5;124;03m    a JSON document) to a Python object.\u001b[39;00m\n\u001b[0;32m    278\u001b[0m \n\u001b[1;32m   (...)\u001b[0m\n\u001b[0;32m    291\u001b[0m \u001b[38;5;124;03m    kwarg; otherwise ``JSONDecoder`` is used.\u001b[39;00m\n\u001b[0;32m    292\u001b[0m \u001b[38;5;124;03m    \"\"\"\u001b[39;00m\n\u001b[1;32m--> 293\u001b[0m     \u001b[38;5;28;01mreturn\u001b[39;00m loads(fp\u001b[38;5;241m.\u001b[39mread(),\n\u001b[0;32m    294\u001b[0m         \u001b[38;5;28mcls\u001b[39m\u001b[38;5;241m=\u001b[39m\u001b[38;5;28mcls\u001b[39m, object_hook\u001b[38;5;241m=\u001b[39mobject_hook,\n\u001b[0;32m    295\u001b[0m         parse_float\u001b[38;5;241m=\u001b[39mparse_float, parse_int\u001b[38;5;241m=\u001b[39mparse_int,\n\u001b[0;32m    296\u001b[0m         parse_constant\u001b[38;5;241m=\u001b[39mparse_constant, object_pairs_hook\u001b[38;5;241m=\u001b[39mobject_pairs_hook, \u001b[38;5;241m*\u001b[39m\u001b[38;5;241m*\u001b[39mkw)\n",
      "File \u001b[1;32m~\\AppData\\Local\\Programs\\Python\\Python39\\lib\\json\\__init__.py:346\u001b[0m, in \u001b[0;36mloads\u001b[1;34m(s, cls, object_hook, parse_float, parse_int, parse_constant, object_pairs_hook, **kw)\u001b[0m\n\u001b[0;32m    341\u001b[0m     s \u001b[38;5;241m=\u001b[39m s\u001b[38;5;241m.\u001b[39mdecode(detect_encoding(s), \u001b[38;5;124m'\u001b[39m\u001b[38;5;124msurrogatepass\u001b[39m\u001b[38;5;124m'\u001b[39m)\n\u001b[0;32m    343\u001b[0m \u001b[38;5;28;01mif\u001b[39;00m (\u001b[38;5;28mcls\u001b[39m \u001b[38;5;129;01mis\u001b[39;00m \u001b[38;5;28;01mNone\u001b[39;00m \u001b[38;5;129;01mand\u001b[39;00m object_hook \u001b[38;5;129;01mis\u001b[39;00m \u001b[38;5;28;01mNone\u001b[39;00m \u001b[38;5;129;01mand\u001b[39;00m\n\u001b[0;32m    344\u001b[0m         parse_int \u001b[38;5;129;01mis\u001b[39;00m \u001b[38;5;28;01mNone\u001b[39;00m \u001b[38;5;129;01mand\u001b[39;00m parse_float \u001b[38;5;129;01mis\u001b[39;00m \u001b[38;5;28;01mNone\u001b[39;00m \u001b[38;5;129;01mand\u001b[39;00m\n\u001b[0;32m    345\u001b[0m         parse_constant \u001b[38;5;129;01mis\u001b[39;00m \u001b[38;5;28;01mNone\u001b[39;00m \u001b[38;5;129;01mand\u001b[39;00m object_pairs_hook \u001b[38;5;129;01mis\u001b[39;00m \u001b[38;5;28;01mNone\u001b[39;00m \u001b[38;5;129;01mand\u001b[39;00m \u001b[38;5;129;01mnot\u001b[39;00m kw):\n\u001b[1;32m--> 346\u001b[0m     \u001b[38;5;28;01mreturn\u001b[39;00m \u001b[43m_default_decoder\u001b[49m\u001b[38;5;241;43m.\u001b[39;49m\u001b[43mdecode\u001b[49m\u001b[43m(\u001b[49m\u001b[43ms\u001b[49m\u001b[43m)\u001b[49m\n\u001b[0;32m    347\u001b[0m \u001b[38;5;28;01mif\u001b[39;00m \u001b[38;5;28mcls\u001b[39m \u001b[38;5;129;01mis\u001b[39;00m \u001b[38;5;28;01mNone\u001b[39;00m:\n\u001b[0;32m    348\u001b[0m     \u001b[38;5;28mcls\u001b[39m \u001b[38;5;241m=\u001b[39m JSONDecoder\n",
      "File \u001b[1;32m~\\AppData\\Local\\Programs\\Python\\Python39\\lib\\json\\decoder.py:337\u001b[0m, in \u001b[0;36mJSONDecoder.decode\u001b[1;34m(self, s, _w)\u001b[0m\n\u001b[0;32m    332\u001b[0m \u001b[38;5;28;01mdef\u001b[39;00m \u001b[38;5;21mdecode\u001b[39m(\u001b[38;5;28mself\u001b[39m, s, _w\u001b[38;5;241m=\u001b[39mWHITESPACE\u001b[38;5;241m.\u001b[39mmatch):\n\u001b[0;32m    333\u001b[0m     \u001b[38;5;124;03m\"\"\"Return the Python representation of ``s`` (a ``str`` instance\u001b[39;00m\n\u001b[0;32m    334\u001b[0m \u001b[38;5;124;03m    containing a JSON document).\u001b[39;00m\n\u001b[0;32m    335\u001b[0m \n\u001b[0;32m    336\u001b[0m \u001b[38;5;124;03m    \"\"\"\u001b[39;00m\n\u001b[1;32m--> 337\u001b[0m     obj, end \u001b[38;5;241m=\u001b[39m \u001b[38;5;28;43mself\u001b[39;49m\u001b[38;5;241;43m.\u001b[39;49m\u001b[43mraw_decode\u001b[49m\u001b[43m(\u001b[49m\u001b[43ms\u001b[49m\u001b[43m,\u001b[49m\u001b[43m \u001b[49m\u001b[43midx\u001b[49m\u001b[38;5;241;43m=\u001b[39;49m\u001b[43m_w\u001b[49m\u001b[43m(\u001b[49m\u001b[43ms\u001b[49m\u001b[43m,\u001b[49m\u001b[43m \u001b[49m\u001b[38;5;241;43m0\u001b[39;49m\u001b[43m)\u001b[49m\u001b[38;5;241;43m.\u001b[39;49m\u001b[43mend\u001b[49m\u001b[43m(\u001b[49m\u001b[43m)\u001b[49m\u001b[43m)\u001b[49m\n\u001b[0;32m    338\u001b[0m     end \u001b[38;5;241m=\u001b[39m _w(s, end)\u001b[38;5;241m.\u001b[39mend()\n\u001b[0;32m    339\u001b[0m     \u001b[38;5;28;01mif\u001b[39;00m end \u001b[38;5;241m!=\u001b[39m \u001b[38;5;28mlen\u001b[39m(s):\n",
      "File \u001b[1;32m~\\AppData\\Local\\Programs\\Python\\Python39\\lib\\json\\decoder.py:353\u001b[0m, in \u001b[0;36mJSONDecoder.raw_decode\u001b[1;34m(self, s, idx)\u001b[0m\n\u001b[0;32m    344\u001b[0m \u001b[38;5;124;03m\"\"\"Decode a JSON document from ``s`` (a ``str`` beginning with\u001b[39;00m\n\u001b[0;32m    345\u001b[0m \u001b[38;5;124;03ma JSON document) and return a 2-tuple of the Python\u001b[39;00m\n\u001b[0;32m    346\u001b[0m \u001b[38;5;124;03mrepresentation and the index in ``s`` where the document ended.\u001b[39;00m\n\u001b[1;32m   (...)\u001b[0m\n\u001b[0;32m    350\u001b[0m \n\u001b[0;32m    351\u001b[0m \u001b[38;5;124;03m\"\"\"\u001b[39;00m\n\u001b[0;32m    352\u001b[0m \u001b[38;5;28;01mtry\u001b[39;00m:\n\u001b[1;32m--> 353\u001b[0m     obj, end \u001b[38;5;241m=\u001b[39m \u001b[38;5;28mself\u001b[39m\u001b[38;5;241m.\u001b[39mscan_once(s, idx)\n\u001b[0;32m    354\u001b[0m \u001b[38;5;28;01mexcept\u001b[39;00m \u001b[38;5;167;01mStopIteration\u001b[39;00m \u001b[38;5;28;01mas\u001b[39;00m err:\n\u001b[0;32m    355\u001b[0m     \u001b[38;5;28;01mraise\u001b[39;00m JSONDecodeError(\u001b[38;5;124m\"\u001b[39m\u001b[38;5;124mExpecting value\u001b[39m\u001b[38;5;124m\"\u001b[39m, s, err\u001b[38;5;241m.\u001b[39mvalue) \u001b[38;5;28;01mfrom\u001b[39;00m \u001b[38;5;28mNone\u001b[39m\n",
      "\u001b[1;31mKeyboardInterrupt\u001b[0m: "
     ]
    }
   ],
   "source": [
    "from optlang import Model\n",
    "from json import load, dump\n",
    "with open(\"correct_MSDB.json\") as jsonIn:\n",
    "    model = load(jsonIn)\n",
    "    \n",
    "optlang_model = Model.from_json(model)\n",
    "proposed_changes = {}\n",
    "for rxn in optlang_model.reactions:\n",
    "    for met in rxn.metabolites:\n",
    "        for ele in met.elements:\n",
    "            varName = f\"{rxn.id}_{met.id}~{ele}\"\n",
    "            original_stoich = met.elements[ele]\n",
    "            proposed_stoich = optlang_model.primal_values[varName]\n",
    "            if original_stoich == proposed_stoich:  continue\n",
    "            proposed_changes[varName] = {\"Original\": original_stoich, \"Proposed\": proposed_stoich}\n",
    "print(proposed_changes)\n",
    "with open(\"proposed_changes.json\", \"w\") as out:\n",
    "    dump(proposed_changes, out, indent=3)\n",
    "# print([index for index, val in enumerate(primals.values()) if val != 0])"
   ]
  },
  {
   "cell_type": "code",
   "execution_count": 38,
   "id": "7ee21304-9584-4f7b-943a-5c30b73c4e40",
   "metadata": {},
   "outputs": [
    {
     "data": {
      "text/plain": [
       "dict_keys(['__name__', '__doc__', '__package__', '__loader__', '__spec__', '__builtin__', '__builtins__', '_ih', '_oh', '_dh', 'In', 'Out', 'get_ipython', 'exit', 'quit', 'open', '_', '__', '___', '_i', '_ii', '_iii', '_i1', 'from_local', 'msdb', '_i2', 'met', 'rxn', '_i3', '_i4', 'compound_dir', 'met_dir', '_i5', '_i6', '_i7', '__nonzero__', 'OptlangHelper', 'Bounds', 'tupVariable', 'tupConstraint', 'tupObjective', 'FeasibilityError', 'ObjectAlreadyDefinedError', 'process_time', 're', 'combine_elements', 'parse_primals', '_check_names', 'justifyDB', 'ArgumentParser', 'Path', 'parser', 'args', '_i8', '_i9', '_i10', '_i11', 'load', 'jsonIn', 'primals', '_i12', '_i13', 'dump', '_i14', 'proposed_changes', '_i15', '_i16', 'Model', 'model', 'optlang_model', '_i17', '_i18', 'var', '_i19', '_i20', '_i21', '_i22', 'met_ele', '_i23', 'ele', '_i24', '_i25', '_i26', 'val', '_i27', '_i28', '_i29', '_i30', '_i31', 'changes', 'varName', 'rxnID', 'metID_ele', 'metID', '_i32', '_i33', '_i34', '_i35', '_i36', '_i37', '_37', '_i38'])"
      ]
     },
     "execution_count": 38,
     "metadata": {},
     "output_type": "execute_result"
    }
   ],
   "source": [
    "locals().keys()"
   ]
  },
  {
   "cell_type": "code",
   "execution_count": 5,
   "id": "152d561c-18d2-4c55-85d1-c7dc6e05be8b",
   "metadata": {},
   "outputs": [],
   "source": [
    "with open(\"MSDB_justification_primals.json\") as jsonIn:\n",
    "    primals = load(jsonIn)\n",
    "    \n",
    "from modelseedpy.biochem import from_local\n",
    "\n",
    "msdb = from_local(\".\")"
   ]
  },
  {
   "cell_type": "code",
   "execution_count": 8,
   "id": "a5cfbb3e-6d5d-46ea-8ec8-da9efaf6754c",
   "metadata": {},
   "outputs": [
    {
     "name": "stdout",
     "output_type": "stream",
     "text": [
      "{'cpd00001_0': {'H': {'original': 2, 'proposed': 1.0}, 'O': {'original': 1, 'proposed': 0.5}, 'charge': {'original': 0, 'proposed': -3.0}}}\n"
     ]
    }
   ],
   "source": [
    "# print(dir(primals))\n",
    "changes = {}\n",
    "for varName, val in primals.items():\n",
    "    # print(var, val)\n",
    "    if \"charge\" not in varName:\n",
    "        rxnID, metID_ele = varName.split(\"_\", 1)\n",
    "        metID, ele = metID_ele.split(\"~\")\n",
    "        # print(rxnID, metID, ele)\n",
    "        met = msdb.compounds.get_by_id(\"_\".join(metID.split(\"_\")[:-1]))\n",
    "        met_ele = met.elements[ele]\n",
    "        if val != met_ele:\n",
    "            if metID not in changes:\n",
    "                changes[metID] = {}\n",
    "            changes[metID][ele] = {\"original\": met_ele, \"proposed\": val}\n",
    "        continue\n",
    "    # print(varName)\n",
    "    rxnID, metID = varName.split(\"_\", 1)\n",
    "    metID = metID.split(\"~\")[0]\n",
    "    # print(rxnID, metID, ele)\n",
    "    met = msdb.compounds.get_by_id(\"_\".join(metID.split(\"_\")[:-1]))\n",
    "    if val != met.charge:\n",
    "        if metID not in changes:\n",
    "            changes[metID] = {}\n",
    "        changes[metID][\"charge\"] = {\"original\": met.charge, \"proposed\": val}\n",
    "    print(changes)\n",
    "    break\n",
    "\n",
    "# print(dir(optlang_model), \"\\n\")\n",
    "# for var in optlang_model.variables:\n",
    "#     rxn, met_ele = var.name.split(\"_\", 1)\n",
    "#     met, ele = met_ele.split(\"~\")\n",
    "#     print(rxn, met, ele)\n",
    "#     break"
   ]
  },
  {
   "cell_type": "code",
   "execution_count": 7,
   "id": "fc9570fa-4f91-4048-808e-2f2978676c45",
   "metadata": {},
   "outputs": [
    {
     "name": "stdout",
     "output_type": "stream",
     "text": [
      "23019\n"
     ]
    }
   ],
   "source": [
    "print(len(changes))"
   ]
  },
  {
   "cell_type": "code",
   "execution_count": 45,
   "id": "887e095e-4f2b-4ebb-b3fd-65ab93d2a197",
   "metadata": {},
   "outputs": [
    {
     "name": "stdout",
     "output_type": "stream",
     "text": [
      "0\n"
     ]
    }
   ],
   "source": [
    "def isnumber(string):\n",
    "    try:  float(string) ; return True\n",
    "    except: print(string, end=\"\\r\") ; return False\n",
    "\n",
    "broken_charges = 0\n",
    "for met in msdb.compounds:\n",
    "    if not isnumber(met.charge):\n",
    "        broken_charges += 1\n",
    "        \n",
    "print(broken_charges)"
   ]
  },
  {
   "cell_type": "code",
   "execution_count": 23,
   "id": "6699b49e-f858-44a9-983b-9fd9ae0604fd",
   "metadata": {},
   "outputs": [
    {
     "ename": "NameError",
     "evalue": "name 'model' is not defined",
     "output_type": "error",
     "traceback": [
      "\u001b[1;31m---------------------------------------------------------------------------\u001b[0m",
      "\u001b[1;31mNameError\u001b[0m                                 Traceback (most recent call last)",
      "Cell \u001b[1;32mIn[23], line 1\u001b[0m\n\u001b[1;32m----> 1\u001b[0m \u001b[43mmodel\u001b[49m\n",
      "\u001b[1;31mNameError\u001b[0m: name 'model' is not defined"
     ]
    }
   ],
   "source": [
    "model"
   ]
  },
  {
   "cell_type": "code",
   "execution_count": 1,
   "id": "09052ad3-1a1a-460a-ad75-f03bcc498cc2",
   "metadata": {},
   "outputs": [],
   "source": [
    "from modelseedpy.biochem import from_local\n",
    "msdb = from_local(\".\")"
   ]
  },
  {
   "cell_type": "code",
   "execution_count": 3,
   "id": "b2a5e2e6-e1b3-4c41-84dd-ea3ec2f0f4f2",
   "metadata": {},
   "outputs": [
    {
     "name": "stdout",
     "output_type": "stream",
     "text": [
      "{}\n"
     ]
    }
   ],
   "source": [
    "undefined_formula_cpd = msdb.compounds.get_by_id(\"cpd16153\")\n",
    "print(undefined_formula_cpd.elements)"
   ]
  },
  {
   "cell_type": "code",
   "execution_count": 6,
   "id": "cc3fe3a1-134a-47b8-bf39-c9b122d62d51",
   "metadata": {},
   "outputs": [
    {
     "name": "stdout",
     "output_type": "stream",
     "text": [
      "0\n",
      "set()\n",
      "{'base_id'}\n"
     ]
    }
   ],
   "source": [
    "for met in msdb.compounds:\n",
    "    compound_dir = dir(met)\n",
    "    print(met.charge)\n",
    "    break\n",
    "    \n",
    "for rxn in msdb.reactions:\n",
    "    for met in rxn.metabolites:\n",
    "        met_dir = dir(met)\n",
    "        break\n",
    "    break\n",
    "\n",
    "print(set(compound_dir) - set(met_dir))\n",
    "print(set(compound_dir).symmetric_difference(set(met_dir)))"
   ]
  },
  {
   "cell_type": "code",
   "execution_count": 5,
   "id": "0fe618e0-132b-4684-8cf5-7e90e054d934",
   "metadata": {},
   "outputs": [
    {
     "data": {
      "text/plain": [
       "'cpd00001_0 + cpd00002_0 + cpd00009_1 --> cpd00008_0 + 2 cpd00009_0 + cpd00067_0'"
      ]
     },
     "execution_count": 5,
     "metadata": {},
     "output_type": "execute_result"
    }
   ],
   "source": [
    "troublesome_rxn = msdb.reactions.get_by_id(\"rxn05145\")\n",
    "troublesome_rxn.reaction"
   ]
  },
  {
   "cell_type": "code",
   "execution_count": 1,
   "id": "24718170-cad5-445a-a200-8d7cd2ea5f50",
   "metadata": {},
   "outputs": [
    {
     "ename": "NameError",
     "evalue": "name 'primals' is not defined",
     "output_type": "error",
     "traceback": [
      "\u001b[1;31m---------------------------------------------------------------------------\u001b[0m",
      "\u001b[1;31mNameError\u001b[0m                                 Traceback (most recent call last)",
      "Cell \u001b[1;32mIn[1], line 1\u001b[0m\n\u001b[1;32m----> 1\u001b[0m \u001b[43mprimals\u001b[49m\n",
      "\u001b[1;31mNameError\u001b[0m: name 'primals' is not defined"
     ]
    }
   ],
   "source": [
    "primals = model.primal_values"
   ]
  }
 ],
 "metadata": {
  "kernelspec": {
   "display_name": "Python 3 (ipykernel)",
   "language": "python",
   "name": "python3"
  },
  "language_info": {
   "codemirror_mode": {
    "name": "ipython",
    "version": 3
   },
   "file_extension": ".py",
   "mimetype": "text/x-python",
   "name": "python",
   "nbconvert_exporter": "python",
   "pygments_lexer": "ipython3",
   "version": "3.9.12"
  }
 },
 "nbformat": 4,
 "nbformat_minor": 5
}
